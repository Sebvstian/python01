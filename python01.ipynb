{
 "cells": [
  {
   "cell_type": "markdown",
   "metadata": {},
   "source": [
    "# Primeros pasos en Python\n",
    "* Variables \n",
    "* Operadores matematicas \n",
    "* Operadores de comparacion\n",
    "* Operadores logicos\n",
    "* Estructuras de control\n",
    "   - Condicionales\n",
    "   - Ciclos finitos e infinitos\n",
    "   - Funciones \n",
    "* Estructuras de datos basicos \n",
    "   - Cadenas \n",
    "   - Numeros enteros / flotantes\n",
    "   - Listas\n",
    "   - Diccionarios \n",
    "* Fundamentos de Programacion orientada a objetos"
   ]
  },
  {
   "cell_type": "code",
   "execution_count": 28,
   "metadata": {},
   "outputs": [
    {
     "name": "stdout",
     "output_type": "stream",
     "text": [
      "Hablame\n"
     ]
    }
   ],
   "source": [
    "print(\"Hablame\")"
   ]
  },
  {
   "cell_type": "code",
   "execution_count": 29,
   "metadata": {},
   "outputs": [],
   "source": [
    "# variables \n",
    "\n",
    "name = \"chet\"\n",
    "last_name = \"holmgren\""
   ]
  },
  {
   "cell_type": "code",
   "execution_count": 30,
   "metadata": {},
   "outputs": [
    {
     "data": {
      "text/plain": [
       "'holmgren'"
      ]
     },
     "execution_count": 30,
     "metadata": {},
     "output_type": "execute_result"
    }
   ],
   "source": [
    "last_name"
   ]
  },
  {
   "cell_type": "code",
   "execution_count": 31,
   "metadata": {},
   "outputs": [
    {
     "ename": "NameError",
     "evalue": "name 'last' is not defined",
     "output_type": "error",
     "traceback": [
      "\u001b[1;31m---------------------------------------------------------------------------\u001b[0m",
      "\u001b[1;31mNameError\u001b[0m                                 Traceback (most recent call last)",
      "Cell \u001b[1;32mIn[31], line 1\u001b[0m\n\u001b[1;32m----> 1\u001b[0m \u001b[43mlast\u001b[49m\u001b[38;5;241m.\u001b[39mname \u001b[38;5;241m=\u001b[39m \u001b[38;5;124m\"\u001b[39m\u001b[38;5;124mchet\u001b[39m\u001b[38;5;124m\"\u001b[39m\n",
      "\u001b[1;31mNameError\u001b[0m: name 'last' is not defined"
     ]
    }
   ],
   "source": [
    "last.name = \"chet\""
   ]
  },
  {
   "cell_type": "code",
   "execution_count": 6,
   "metadata": {},
   "outputs": [
    {
     "ename": "SyntaxError",
     "evalue": "cannot assign to expression here. Maybe you meant '==' instead of '='? (2433911663.py, line 1)",
     "output_type": "error",
     "traceback": [
      "\u001b[1;36m  Cell \u001b[1;32mIn[6], line 1\u001b[1;36m\u001b[0m\n\u001b[1;33m    last-name = \"chet\"\u001b[0m\n\u001b[1;37m    ^\u001b[0m\n\u001b[1;31mSyntaxError\u001b[0m\u001b[1;31m:\u001b[0m cannot assign to expression here. Maybe you meant '==' instead of '='?\n"
     ]
    }
   ],
   "source": [
    "last-name = \"chet\""
   ]
  },
  {
   "cell_type": "code",
   "execution_count": 10,
   "metadata": {},
   "outputs": [],
   "source": [
    "# numeros \n",
    "numero1 = 10\n",
    "numero2 = 20\n",
    "numero3 = 30\n",
    "numero4 = 40.44"
   ]
  },
  {
   "cell_type": "code",
   "execution_count": 11,
   "metadata": {},
   "outputs": [
    {
     "data": {
      "text/plain": [
       "10"
      ]
     },
     "execution_count": 11,
     "metadata": {},
     "output_type": "execute_result"
    }
   ],
   "source": [
    "numero1"
   ]
  },
  {
   "cell_type": "code",
   "execution_count": 13,
   "metadata": {},
   "outputs": [],
   "source": [
    "name = \"chet\""
   ]
  },
  {
   "cell_type": "code",
   "execution_count": 18,
   "metadata": {},
   "outputs": [],
   "source": [
    "# operadores matematicos \n",
    "result_add = numero1 + numero2\n",
    "result_sub = numero1 - numero2\n",
    "result_mult = numero1 * numero2 \n",
    "result_div = numero1 / numero2"
   ]
  },
  {
   "cell_type": "code",
   "execution_count": 17,
   "metadata": {},
   "outputs": [
    {
     "data": {
      "text/plain": [
       "30"
      ]
     },
     "execution_count": 17,
     "metadata": {},
     "output_type": "execute_result"
    }
   ],
   "source": [
    "result_add"
   ]
  },
  {
   "cell_type": "code",
   "execution_count": 26,
   "metadata": {},
   "outputs": [
    {
     "name": "stdout",
     "output_type": "stream",
     "text": [
      "30\n",
      "El resultado de la division por la multipicacion es el siguiente: 100.0\n",
      "El resultado de la division por la multipicacion es el siguiente: 100.0\n",
      "El resultado de la division por la multipicacion es el siguiente: {100.0}\n"
     ]
    }
   ],
   "source": [
    "print( result_add )\n",
    "print ( \"El resultado de la division por la multipicacion es el siguiente:\", result_div * result_mult )\n",
    "print ( f\"El resultado de la division por la multipicacion es el siguiente: {result_div * result_mult}\" )\n",
    "print ( f\"El resultado de la division por la multipicacion es el siguiente:\", {result_div * result_mult} )"
   ]
  },
  {
   "cell_type": "code",
   "execution_count": 27,
   "metadata": {},
   "outputs": [
    {
     "data": {
      "text/plain": [
       "False"
      ]
     },
     "execution_count": 27,
     "metadata": {},
     "output_type": "execute_result"
    }
   ],
   "source": [
    "# operadores de booleanos\n",
    "True\n",
    "False"
   ]
  },
  {
   "cell_type": "code",
   "execution_count": null,
   "metadata": {},
   "outputs": [],
   "source": [
    "# operadores de comparacion \n",
    "# mayor que >\n",
    "# menor que <\n",
    "# mayor o igual que >=\n",
    "# menor o igual que <=\n",
    "# igual? ==\n",
    "#  diferente !="
   ]
  },
  {
   "cell_type": "code",
   "execution_count": 33,
   "metadata": {},
   "outputs": [
    {
     "data": {
      "text/plain": [
       "True"
      ]
     },
     "execution_count": 33,
     "metadata": {},
     "output_type": "execute_result"
    }
   ],
   "source": [
    "3 > 5\n",
    "5 > 3\n",
    "3 < 5\n",
    "5 < 3\n",
    "5 >= 5 \n",
    "3 <= 3\n",
    "3 == 3\n",
    "5 != 6"
   ]
  },
  {
   "cell_type": "code",
   "execution_count": 34,
   "metadata": {},
   "outputs": [
    {
     "data": {
      "text/plain": [
       "True"
      ]
     },
     "execution_count": 34,
     "metadata": {},
     "output_type": "execute_result"
    }
   ],
   "source": [
    "result_mult > result_add"
   ]
  },
  {
   "cell_type": "code",
   "execution_count": 35,
   "metadata": {},
   "outputs": [
    {
     "name": "stdout",
     "output_type": "stream",
     "text": [
      "El resultado de la suma es mayor\n"
     ]
    }
   ],
   "source": [
    "#  condicional simple \n",
    "if result_add > result_sub: \n",
    "    print(\"El resultado de la suma es mayor\" )"
   ]
  },
  {
   "cell_type": "code",
   "execution_count": 38,
   "metadata": {},
   "outputs": [
    {
     "name": "stdout",
     "output_type": "stream",
     "text": [
      "El resultado de la suma no es mayor\n"
     ]
    }
   ],
   "source": [
    "if result_add < result_sub: \n",
    "    print(\"El resultado de la suma es mayor\" )\n",
    "else: \n",
    "    print(\"El resultado de la suma no es mayor\")"
   ]
  },
  {
   "cell_type": "code",
   "execution_count": 39,
   "metadata": {},
   "outputs": [
    {
     "name": "stdout",
     "output_type": "stream",
     "text": [
      "El resultado de la suma 30 es mayor que -10\n"
     ]
    }
   ],
   "source": [
    "if result_add > result_sub: \n",
    "    print(f\"El resultado de la suma {result_add}, es mayor que {result_sub}\" )"
   ]
  },
  {
   "cell_type": "code",
   "execution_count": 41,
   "metadata": {},
   "outputs": [
    {
     "name": "stdout",
     "output_type": "stream",
     "text": [
      "El resultado de la suma el cual es 30, no es mayor que el resultado de la resta el cual es -10\n"
     ]
    }
   ],
   "source": [
    "if result_add < result_sub: \n",
    "    print(f\"El resultado de la suma {result_add}, es mayor que {result_sub}\" )\n",
    "else: \n",
    "    print(f\"El resultado de la suma el cual es {result_add}, no es mayor que el resultado de la resta el cual es {result_sub}\")"
   ]
  }
 ],
 "metadata": {
  "kernelspec": {
   "display_name": "Python 3",
   "language": "python",
   "name": "python3"
  },
  "language_info": {
   "codemirror_mode": {
    "name": "ipython",
    "version": 3
   },
   "file_extension": ".py",
   "mimetype": "text/x-python",
   "name": "python",
   "nbconvert_exporter": "python",
   "pygments_lexer": "ipython3",
   "version": "3.12.1"
  }
 },
 "nbformat": 4,
 "nbformat_minor": 2
}
